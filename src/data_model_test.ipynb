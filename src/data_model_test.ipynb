{
 "cells": [
  {
   "cell_type": "code",
   "execution_count": 3,
   "metadata": {
    "scrolled": true
   },
   "outputs": [],
   "source": [
    "import dataModel as dm"
   ]
  },
  {
   "cell_type": "code",
   "execution_count": 4,
   "metadata": {},
   "outputs": [],
   "source": [
    "datamodel = dm.DataModel(\"coffee_guy\")"
   ]
  },
  {
   "cell_type": "code",
   "execution_count": 5,
   "metadata": {},
   "outputs": [],
   "source": [
    "def sec_to_str(sec):\n",
    "    return str(int(sec/60/60)) + \":\" + str(int(sec/60%60)) + \":\" + str(int(sec%60))"
   ]
  },
  {
   "cell_type": "code",
   "execution_count": 9,
   "metadata": {
    "scrolled": true
   },
   "outputs": [],
   "source": [
    "for i in range(3000):\n",
    "    is_breakfast = False\n",
    "    printString = \"\"\n",
    "    for _ in range(3000):\n",
    "        d, done = datamodel.step(30)\n",
    "        sec = d['time']\n",
    "        loc = d['loc_cate']\n",
    "        activity = d['act_truth']\n",
    "\n",
    "        if done:\n",
    "            printString += \" DAY OVER ========================= at \" + sec_to_str(sec) \\\n",
    "                   + \" -- \" + str(loc) + \" -- \\n\"\n",
    "            datamodel.reset(seed=i)\n",
    "            break\n",
    "        printString += str(int(sec/60/60)) + \":\" + str(int(sec/60%60)) + \":\" + str(int(sec%60)) + \" -- \" + str(loc) + \" -- \" + str(activity) +\"\\n\"\n",
    "        if activity == \"Breakfast\" and loc == \"home_kitchen\":\n",
    "            if not is_breakfast:\n",
    "                is_breakfast = True\n",
    "    if not is_breakfast:\n",
    "        print(\"no breakfast at \" + str(i))\n",
    "        print(printString)"
   ]
  },
  {
   "cell_type": "code",
   "execution_count": 8,
   "metadata": {},
   "outputs": [],
   "source": [
    "for i in range(3000):\n",
    "    is_breakfast = False\n",
    "    printString = \"\"\n",
    "    for _ in range(3000):\n",
    "        d, done = datamodel.step(30)\n",
    "        sec = d['time']\n",
    "        loc = d['loc_cate']\n",
    "        activity = d['act_truth']\n",
    "\n",
    "        if done:\n",
    "            printString += \" DAY OVER ========================= at \" + sec_to_str(sec) \\\n",
    "                   + \" -- \" + str(loc) + \" -- \\n\"\n",
    "            datamodel.reset(seed=i)\n",
    "            break\n",
    "        printString += str(int(sec/60/60)) + \":\" + str(int(sec/60%60)) + \":\" + str(int(sec%60)) + \" -- \" + str(loc) + \" -- \" + str(activity) +\"\\n\"\n",
    "        if activity == \"AfternoonWork\" and loc == \"Office\":\n",
    "            if not is_breakfast:\n",
    "                is_breakfast = True\n",
    "    if not is_breakfast:\n",
    "        print(\"no breakfast at \" + str(i))\n",
    "        print(printString)"
   ]
  },
  {
   "cell_type": "code",
   "execution_count": 9,
   "metadata": {},
   "outputs": [],
   "source": [
    "for i in range(1000):\n",
    "    is_breakfast = False\n",
    "    for _ in range(3000):\n",
    "        d, done = datamodel.step(60)\n",
    "        sec = d['time']\n",
    "        loc = d['loc_cate']\n",
    "        activity = d['act_truth']\n",
    "        if done:\n",
    "#             print(\" DAY OVER ========================= at \" + sec_to_str(sec)\n",
    "#                    + \" -- \" + str(loc) + \" -- \")\n",
    "            datamodel.reset(seed=i)\n",
    "            break\n",
    "    #     print(str(int(sec/60/60)) + \":\" + str(int(sec/60%60)) + \":\" + str(int(sec%60)) + \" -- \" + str(loc) + \" -- \" + str(activity))\n",
    "        if activity == \"PersonalGrooming\":\n",
    "            if not is_breakfast:\n",
    "#                 print(\"wake up at \" + sec_to_str(sec))\n",
    "                is_breakfast = True\n",
    "    if not is_breakfast:\n",
    "        print(\"no wake up in test #\" + str(i))\n",
    "        raise NoWakeupError()"
   ]
  },
  {
   "cell_type": "code",
   "execution_count": null,
   "metadata": {},
   "outputs": [],
   "source": []
  }
 ],
 "metadata": {
  "kernelspec": {
   "display_name": "Python 3",
   "language": "python",
   "name": "python3"
  },
  "language_info": {
   "codemirror_mode": {
    "name": "ipython",
    "version": 3
   },
   "file_extension": ".py",
   "mimetype": "text/x-python",
   "name": "python",
   "nbconvert_exporter": "python",
   "pygments_lexer": "ipython3",
   "version": "3.7.2"
  }
 },
 "nbformat": 4,
 "nbformat_minor": 2
}
